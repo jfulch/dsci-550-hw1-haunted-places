{
 "cells": [
  {
   "cell_type": "markdown",
   "metadata": {
    "cell_id": "10c9dcd6ecf9471fbe97e6cd1be5ab26",
    "deepnote_cell_type": "text-cell-h2",
    "formattedRanges": []
   },
   "source": [
    "## HW 1: Haunted Places"
   ]
  },
  {
   "cell_type": "markdown",
   "metadata": {
    "cell_id": "dbbfbc0c64834e83be949a58a132c56b",
    "deepnote_cell_type": "markdown"
   },
   "source": [
    "#### CSV to TSV Converter\n",
    "This python script converts the CSV file to TSV format using pandas. The script handles error cases and maintains the original data structure while changing the delimiter."
   ]
  },
  {
   "cell_type": "code",
   "execution_count": null,
   "metadata": {
    "cell_id": "326cbe03bc2549b08701c5f58c9f46f0",
    "deepnote_cell_type": "code",
    "execution_context_id": "3040af8b-2dea-4530-b58a-d0a5ebb6c525",
    "execution_millis": 1409,
    "execution_start": 1739394168019,
    "source_hash": "835d671"
   },
   "outputs": [],
   "source": [
    "import pandas as pd\n",
    "\n",
    "file_name = \"haunted_places\"\n",
    "\n",
    "def convert_csv_to_tsv(input_csv, output_tsv):\n",
    "    try:\n",
    "        # Read the CSV file\n",
    "        df = pd.read_csv(input_csv)\n",
    "        \n",
    "        # Write to TSV file\n",
    "        df.to_csv(output_tsv, sep='\\t', index=False)\n",
    "        print(f\"Successfully converted {input_csv} to {output_tsv}\")\n",
    "    except Exception as e:\n",
    "        print(f\"An error occurred: {str(e)}\")\n",
    "\n",
    "if __name__ == \"__main__\":\n",
    "    # Replace these with your actual file names\n",
    "    input_csv_file = f\"{file_name}.csv\"\n",
    "    output_tsv_file = f\"{file_name}.tsv\"\n",
    "    \n",
    "    convert_csv_to_tsv(input_csv_file, output_tsv_file)"
   ]
  },
  {
   "cell_type": "code",
   "execution_count": 2,
   "metadata": {
    "cell_id": "caa221923d27460e8bd8af6a287455c6",
    "deepnote_cell_type": "sql",
    "deepnote_sql_source": "SELECT *\nFROM 'haunted_places.tsv'",
    "deepnote_variable_name": "df_1",
    "execution_context_id": "3040af8b-2dea-4530-b58a-d0a5ebb6c525",
    "execution_millis": 2065,
    "execution_start": 1739394169535,
    "source_hash": "8120d995",
    "sql_integration_id": "deepnote-dataframe-sql"
   },
   "outputs": [
    {
     "data": {
      "application/vnd.deepnote.dataframe.v3+json": {
       "column_count": 10,
       "columns": [
        {
         "dtype": "object",
         "name": "city",
         "stats": {
          "categories": [
           {
            "count": 61,
            "name": "Los Angeles"
           },
           {
            "count": 10928,
            "name": "4384 others"
           },
           {
            "count": 3,
            "name": "Missing"
           }
          ],
          "nan_count": 3,
          "unique_count": 4385
         }
        },
        {
         "dtype": "object",
         "name": "country",
         "stats": {
          "categories": [
           {
            "count": 10992,
            "name": "United States"
           }
          ],
          "nan_count": 0,
          "unique_count": 1
         }
        },
        {
         "dtype": "object",
         "name": "description",
         "stats": {
          "categories": [
           {
            "count": 2,
            "name": "Apparitions seen."
           },
           {
            "count": 2,
            "name": "Students have reported lights along the pathway near the Main House (administration building) turning off and on late at night as they walk by. For example, as a person approaches a light it goes out, then back on once the person has gone by it. An eerie feeling of being watched in this location has also been noted, as well as unexplained isolated mists in the surrounding wooded area."
           },
           {
            "count": 10988,
            "name": "10985 others"
           }
          ],
          "nan_count": 0,
          "unique_count": 10987
         }
        },
        {
         "dtype": "object",
         "name": "location",
         "stats": {
          "categories": [
           {
            "count": 18,
            "name": "Prince Georges county"
           },
           {
            "count": 10971,
            "name": "9902 others"
           },
           {
            "count": 3,
            "name": "Missing"
           }
          ],
          "nan_count": 3,
          "unique_count": 9903
         }
        },
        {
         "dtype": "object",
         "name": "state",
         "stats": {
          "categories": [
           {
            "count": 1070,
            "name": "California"
           },
           {
            "count": 696,
            "name": "Texas"
           },
           {
            "count": 9226,
            "name": "49 others"
           }
          ],
          "nan_count": 0,
          "unique_count": 51
         }
        },
        {
         "dtype": "object",
         "name": "state_abbrev",
         "stats": {
          "categories": [
           {
            "count": 1070,
            "name": "CA"
           },
           {
            "count": 696,
            "name": "TX"
           },
           {
            "count": 9226,
            "name": "49 others"
           }
          ],
          "nan_count": 0,
          "unique_count": 51
         }
        },
        {
         "dtype": "float64",
         "name": "longitude",
         "stats": {
          "histogram": [
           {
            "bin_end": -131.38044251,
            "bin_start": -164.7224104,
            "count": 121
           },
           {
            "bin_end": -98.03847462,
            "bin_start": -131.38044251,
            "count": 2462
           },
           {
            "bin_end": -64.69650673000001,
            "bin_start": -98.03847462,
            "count": 7138
           },
           {
            "bin_end": -31.354538840000004,
            "bin_start": -64.69650673000001,
            "count": 0
           },
           {
            "bin_end": 1.987429050000003,
            "bin_start": -31.354538840000004,
            "count": 2
           },
           {
            "bin_end": 35.32939693999998,
            "bin_start": 1.987429050000003,
            "count": 0
           },
           {
            "bin_end": 68.67136482999999,
            "bin_start": 35.32939693999998,
            "count": 1
           },
           {
            "bin_end": 102.01333272,
            "bin_start": 68.67136482999999,
            "count": 4
           },
           {
            "bin_end": 135.35530060999997,
            "bin_start": 102.01333272,
            "count": 0
           },
           {
            "bin_end": 168.6972685,
            "bin_start": 135.35530060999997,
            "count": 3
           }
          ],
          "max": "168.6972685",
          "min": "-164.7224104",
          "nan_count": 1261,
          "unique_count": 8774
         }
        },
        {
         "dtype": "float64",
         "name": "latitude",
         "stats": {
          "histogram": [
           {
            "bin_end": -33.83209454,
            "bin_start": -45.023726,
            "count": 2
           },
           {
            "bin_end": -22.64046308,
            "bin_start": -33.83209454,
            "count": 0
           },
           {
            "bin_end": -11.44883162,
            "bin_start": -22.64046308,
            "count": 0
           },
           {
            "bin_end": -0.25720015999999646,
            "bin_start": -11.44883162,
            "count": 0
           },
           {
            "bin_end": 10.934431300000007,
            "bin_start": -0.25720015999999646,
            "count": 0
           },
           {
            "bin_end": 22.126062760000003,
            "bin_start": 10.934431300000007,
            "count": 92
           },
           {
            "bin_end": 33.317694220000014,
            "bin_start": 22.126062760000003,
            "count": 1362
           },
           {
            "bin_end": 44.50932568000001,
            "bin_start": 33.317694220000014,
            "count": 7518
           },
           {
            "bin_end": 55.70095714000001,
            "bin_start": 44.50932568000001,
            "count": 729
           },
           {
            "bin_end": 66.89258860000001,
            "bin_start": 55.70095714000001,
            "count": 28
           }
          ],
          "max": "66.89258860000001",
          "min": "-45.023726",
          "nan_count": 1261,
          "unique_count": 8775
         }
        },
        {
         "dtype": "float64",
         "name": "city_longitude",
         "stats": {
          "histogram": [
           {
            "bin_end": -155.03552308,
            "bin_start": -164.7238888,
            "count": 99
           },
           {
            "bin_end": -145.34715735999998,
            "bin_start": -155.03552308,
            "count": 21
           },
           {
            "bin_end": -135.65879164,
            "bin_start": -145.34715735999998,
            "count": 4
           },
           {
            "bin_end": -125.97042592,
            "bin_start": -135.65879164,
            "count": 4
           },
           {
            "bin_end": -116.28206019999999,
            "bin_start": -125.97042592,
            "count": 1472
           },
           {
            "bin_end": -106.59369448,
            "bin_start": -116.28206019999999,
            "count": 516
           },
           {
            "bin_end": -96.90532876,
            "bin_start": -106.59369448,
            "count": 1042
           },
           {
            "bin_end": -87.21696304,
            "bin_start": -96.90532876,
            "count": 2276
           },
           {
            "bin_end": -77.52859731999999,
            "bin_start": -87.21696304,
            "count": 3461
           },
           {
            "bin_end": -67.8402316,
            "bin_start": -77.52859731999999,
            "count": 2068
           }
          ],
          "max": "-67.8402316",
          "min": "-164.7238888",
          "nan_count": 29,
          "unique_count": 5222
         }
        },
        {
         "dtype": "float64",
         "name": "city_latitude"
        },
        {
         "dtype": "int64",
         "name": "_deepnote_index_column"
        }
       ],
       "row_count": 10992,
       "rows": [
        {
         "_deepnote_index_column": 0,
         "city": "Ada",
         "city_latitude": 42.960727,
         "city_longitude": -85.4954803,
         "country": "United States",
         "description": "Ada witch - Sometimes you can see a misty blue figure floating within a 3-mile radius of the Ada Cemetery on 2 Mile between Egypt Valley and Honey Creek. The story of her origin is as follows: A man suspected his wife of having an affair, so he followed her late one night when she thought he was asleep. Sure enough, she went to a field near their property where she met her lover. The husband was enraged and killed his wife, which resulted in a struggle with the other man. Both men died from their injuries. It is said that late at night (especially during the night of and the nights preceding a full moon) people driving by the field can see her ghost, searching for her lover. Some people have reported stopping to try to communicate with her, but she always disappears or runs into the woods where she cannot be followed (due to the thick brambles that inhabit the area). She is said to dress in a long white gown which authorities say dates her to the turn of the 20th century. Usually she …",
         "latitude": 42.9621061,
         "location": "Ada Cemetery",
         "longitude": -85.50489309999999,
         "state": "Michigan",
         "state_abbrev": "MI"
        },
        {
         "_deepnote_index_column": 1,
         "city": "Addison",
         "city_latitude": 41.986434,
         "city_longitude": -84.3471684,
         "country": "United States",
         "description": "A little girl was killed suddenly while waiting for a school bus by a speeding car. Since her death things have happened. The day of her funeral she started knocking on doors of the house she was born in.1 month later as her clothes were to be removed the doors in the home flew open with no reason. Cold spots now can be felt & knocking at the door is still present to this day in the home. Also when there swings in the yard you could see them swing real high as if someone was swinging on them. lights like to go on & off in this home & she does move things to let someone know she is there. The cemetery where this child lies has had alot of activity also. When you visit her grave she has a twirly that will start going around & round with no reason or wind blowing to let you know she is present. Some have said she has been spotted walking the cemetery very restless as if she doesn't realize she has passed on.",
         "latitude": 41.9714248,
         "location": "North Adams Rd.",
         "longitude": -84.3818434,
         "state": "Michigan",
         "state_abbrev": "MI"
        },
        {
         "_deepnote_index_column": 2,
         "city": "Adrian",
         "city_latitude": 41.8975471,
         "city_longitude": -84.03716589999999,
         "country": "United States",
         "description": "If you take Gorman Rd. west towards Sand Creek, you will come to a gravel road leading north. A mile or so up this road you will come to narrow one lane trestle bridge. The road goes under this. Legend has it that at one time there was a farm house built near the tracks. Late one night a fire broke out in the barn. While the father ran to the barn to try to get the horses out, his wife and young son went to the tracks to wave down one of the many trains that would use that right of way. They were too close to the tracks however and both were struck by the train as it went past. The father was killed in the barn. Now if you go out there late at night, you can sometimes communicate with the Father. He will not allow you to talk to his wife or son; as if he was protecting them . There are other people living in the area now, and a large streetlight has been placed there by the people who own the neighboring land. If you stay there to long, they will call the police. However if you make y…",
         "latitude": 41.904538,
         "location": "Ghost Trestle",
         "longitude": -84.03565619999999,
         "state": "Michigan",
         "state_abbrev": "MI"
        },
        {
         "_deepnote_index_column": 3,
         "city": "Adrian",
         "city_latitude": 41.8975471,
         "city_longitude": -84.03716589999999,
         "country": "United States",
         "description": "In the 1970's, one room, room 211, in the old section of the dorms exhibited several phenomena. Don't know if this still continues today. The door into the room from the hallway, as well as the door into the bathroom, would open and shut on their own, the main door even if it had been locked. After closing, it would be locked again. There was also a spot on one wall (a wall that the room shared with a boarded up, no longer used laundry shaft) where two points of light would appear, shaped similar to eyes. Attempts were made to explain their appearance (they were visible any time it was dark in the room). They were screened off from the windows to see if they might be reflections, they weren't. When objects were placed between them and the windows they actually became brighter. We tried painting the walls, putting several coats of paint over them (thinking they may have been a joke of a previous resident, made with glow in the dark paint) - also having used sandpaper on the wall in tha…",
         "latitude": 41.9057124,
         "location": "Siena Heights University",
         "longitude": -84.0175653,
         "state": "Michigan",
         "state_abbrev": "MI"
        },
        {
         "_deepnote_index_column": 4,
         "city": "Albion",
         "city_latitude": 42.243097,
         "city_longitude": -84.7530304,
         "country": "United States",
         "description": "Kappa Delta Sorority - The Kappa Delta Sorority is haunted by an entity simply known as 'P'. It is said she was a sister there who died in a car accident. Current sisters there have reported hearing giggling and running around coming from the upstairs floor while they are in the basement. At one time a sister called out to \"P\" and received a \"hello\" in reply.",
         "latitude": 42.2440064,
         "location": "Albion College",
         "longitude": -84.7451775,
         "state": "Michigan",
         "state_abbrev": "MI"
        },
        {
         "_deepnote_index_column": 5,
         "city": "Albion",
         "city_latitude": 42.243097,
         "city_longitude": -84.7530304,
         "country": "United States",
         "description": "A mysterious lady in white has been spotted in this cemetery.",
         "latitude": 42.2368139,
         "location": "Riverside Cemetery",
         "longitude": -84.7530555,
         "state": "Michigan",
         "state_abbrev": "MI"
        },
        {
         "_deepnote_index_column": 6,
         "city": "Algoma Township",
         "city_latitude": 43.1492928,
         "city_longitude": -85.62292959999999,
         "country": "United States",
         "description": "On a winding dirt road next to the Rogue River called Friske, there is a small turn-around for no particular reason. On this turn-around, there is a trail that leads off a ways into the woods. If you follow the trail, it leads to an old iron bridge called Hell's Bridge. It is said that if you are sitting or standing on the bridge at midnight you can hear the devil laughing. The reason is, in the 1800's, when Algoma didn't really exist and Rockford was known as Laphamville, a man named Elias Friske murdered several children and claimed a demon made him do it. Later the bodies were found in the part of the river where the bridge is now. Sometimes you can also hear the children crying, @r the noise of splashing water where their bodies were thrown. Some fishermen in the early morning have reported seeing a strange figure near the bridge...",
         "latitude": "nan",
         "location": "Hell's Bridge",
         "longitude": "nan",
         "state": "Michigan",
         "state_abbrev": "MI"
        },
        {
         "_deepnote_index_column": 7,
         "city": "Algonac",
         "city_latitude": 42.6183675,
         "city_longitude": -82.531018,
         "country": "United States",
         "description": "Morrow Road is a Haunted road in Algonac Michigan near Harsens Island. In the 1800's a woman lost here child on that road and is still looking for her today. At night people see strange glowing orbs floating down the road and through the woods. Some see the lady walking by the side of the road in an 1800's dress covered in blood. Still others have reported seeing her hanging from a tree by a noose. The road has been on the popular show Unsolved Mysteries as well as several local news channels. Now there is a movie being made about the road. the story behind the road is a woman went out in the middle of the night to find her toddler that had somehow got out alone in the winter they both froze to death, it is a fact that if you park on the bridge at midnight and honk your horn three times she will appear and see if you have her baby. She is also said to be wearing a white blood covered gown carrying her dead baby. Also a green light will chase people away.-  www.morrowroad.com",
         "latitude": 42.6529969,
         "location": "Morrow Road",
         "longitude": -82.5762902,
         "state": "Michigan",
         "state_abbrev": "MI"
        },
        {
         "_deepnote_index_column": 8,
         "city": "Allegan",
         "city_latitude": 42.5291989,
         "city_longitude": -85.8553031,
         "country": "United States",
         "description": "People report hearing footsteps, and doors slamming where there are no doors, a small child's voice say \"Mama?\"",
         "latitude": 42.520552,
         "location": "Elks Lodge",
         "longitude": -85.84159919999999,
         "state": "Michigan",
         "state_abbrev": "MI"
        },
        {
         "_deepnote_index_column": 9,
         "city": "Allegan",
         "city_latitude": 42.5291989,
         "city_longitude": -85.8553031,
         "country": "United States",
         "description": "Various ghostly activities. News coverage about these hauntings every year around Halloween time, on the local channels.",
         "latitude": 42.4977621,
         "location": "The Grill House and the Rock Bottom Bar",
         "longitude": -85.8575642,
         "state": "Michigan",
         "state_abbrev": "MI"
        }
       ]
      },
      "text/html": [
       "<div>\n",
       "<style scoped>\n",
       "    .dataframe tbody tr th:only-of-type {\n",
       "        vertical-align: middle;\n",
       "    }\n",
       "\n",
       "    .dataframe tbody tr th {\n",
       "        vertical-align: top;\n",
       "    }\n",
       "\n",
       "    .dataframe thead th {\n",
       "        text-align: right;\n",
       "    }\n",
       "</style>\n",
       "<table border=\"1\" class=\"dataframe\">\n",
       "  <thead>\n",
       "    <tr style=\"text-align: right;\">\n",
       "      <th></th>\n",
       "      <th>city</th>\n",
       "      <th>country</th>\n",
       "      <th>description</th>\n",
       "      <th>location</th>\n",
       "      <th>state</th>\n",
       "      <th>state_abbrev</th>\n",
       "      <th>longitude</th>\n",
       "      <th>latitude</th>\n",
       "      <th>city_longitude</th>\n",
       "      <th>city_latitude</th>\n",
       "    </tr>\n",
       "  </thead>\n",
       "  <tbody>\n",
       "    <tr>\n",
       "      <th>0</th>\n",
       "      <td>Ada</td>\n",
       "      <td>United States</td>\n",
       "      <td>Ada witch - Sometimes you can see a misty blue...</td>\n",
       "      <td>Ada Cemetery</td>\n",
       "      <td>Michigan</td>\n",
       "      <td>MI</td>\n",
       "      <td>-85.504893</td>\n",
       "      <td>42.962106</td>\n",
       "      <td>-85.495480</td>\n",
       "      <td>42.960727</td>\n",
       "    </tr>\n",
       "    <tr>\n",
       "      <th>1</th>\n",
       "      <td>Addison</td>\n",
       "      <td>United States</td>\n",
       "      <td>A little girl was killed suddenly while waitin...</td>\n",
       "      <td>North Adams Rd.</td>\n",
       "      <td>Michigan</td>\n",
       "      <td>MI</td>\n",
       "      <td>-84.381843</td>\n",
       "      <td>41.971425</td>\n",
       "      <td>-84.347168</td>\n",
       "      <td>41.986434</td>\n",
       "    </tr>\n",
       "    <tr>\n",
       "      <th>2</th>\n",
       "      <td>Adrian</td>\n",
       "      <td>United States</td>\n",
       "      <td>If you take Gorman Rd. west towards Sand Creek...</td>\n",
       "      <td>Ghost Trestle</td>\n",
       "      <td>Michigan</td>\n",
       "      <td>MI</td>\n",
       "      <td>-84.035656</td>\n",
       "      <td>41.904538</td>\n",
       "      <td>-84.037166</td>\n",
       "      <td>41.897547</td>\n",
       "    </tr>\n",
       "    <tr>\n",
       "      <th>3</th>\n",
       "      <td>Adrian</td>\n",
       "      <td>United States</td>\n",
       "      <td>In the 1970's, one room, room 211, in the old ...</td>\n",
       "      <td>Siena Heights University</td>\n",
       "      <td>Michigan</td>\n",
       "      <td>MI</td>\n",
       "      <td>-84.017565</td>\n",
       "      <td>41.905712</td>\n",
       "      <td>-84.037166</td>\n",
       "      <td>41.897547</td>\n",
       "    </tr>\n",
       "    <tr>\n",
       "      <th>4</th>\n",
       "      <td>Albion</td>\n",
       "      <td>United States</td>\n",
       "      <td>Kappa Delta Sorority - The Kappa Delta Sororit...</td>\n",
       "      <td>Albion College</td>\n",
       "      <td>Michigan</td>\n",
       "      <td>MI</td>\n",
       "      <td>-84.745177</td>\n",
       "      <td>42.244006</td>\n",
       "      <td>-84.753030</td>\n",
       "      <td>42.243097</td>\n",
       "    </tr>\n",
       "    <tr>\n",
       "      <th>...</th>\n",
       "      <td>...</td>\n",
       "      <td>...</td>\n",
       "      <td>...</td>\n",
       "      <td>...</td>\n",
       "      <td>...</td>\n",
       "      <td>...</td>\n",
       "      <td>...</td>\n",
       "      <td>...</td>\n",
       "      <td>...</td>\n",
       "      <td>...</td>\n",
       "    </tr>\n",
       "    <tr>\n",
       "      <th>10987</th>\n",
       "      <td>Westminster</td>\n",
       "      <td>United States</td>\n",
       "      <td>at 12 midnight you can see a lady with two lit...</td>\n",
       "      <td>city hall</td>\n",
       "      <td>Colorado</td>\n",
       "      <td>CO</td>\n",
       "      <td>-105.048936</td>\n",
       "      <td>39.862610</td>\n",
       "      <td>-105.037205</td>\n",
       "      <td>39.836653</td>\n",
       "    </tr>\n",
       "    <tr>\n",
       "      <th>10988</th>\n",
       "      <td>Westminster</td>\n",
       "      <td>United States</td>\n",
       "      <td>Is haunted by the victims of a murder that hap...</td>\n",
       "      <td>Pillar of Fire</td>\n",
       "      <td>Colorado</td>\n",
       "      <td>CO</td>\n",
       "      <td>-105.032091</td>\n",
       "      <td>39.847237</td>\n",
       "      <td>-105.037205</td>\n",
       "      <td>39.836653</td>\n",
       "    </tr>\n",
       "    <tr>\n",
       "      <th>10989</th>\n",
       "      <td>Wheat Ridge</td>\n",
       "      <td>United States</td>\n",
       "      <td>The institution was for kids 18 years old and ...</td>\n",
       "      <td>Ridge Mental Institution</td>\n",
       "      <td>Colorado</td>\n",
       "      <td>CO</td>\n",
       "      <td>-105.063974</td>\n",
       "      <td>39.769726</td>\n",
       "      <td>-105.077206</td>\n",
       "      <td>39.766098</td>\n",
       "    </tr>\n",
       "    <tr>\n",
       "      <th>10990</th>\n",
       "      <td>Wheat Ridge</td>\n",
       "      <td>United States</td>\n",
       "      <td>Gymnasium -  their have been reports of a litt...</td>\n",
       "      <td>Wheat Ridge Middle School</td>\n",
       "      <td>Colorado</td>\n",
       "      <td>CO</td>\n",
       "      <td>-105.103613</td>\n",
       "      <td>39.764055</td>\n",
       "      <td>-105.077206</td>\n",
       "      <td>39.766098</td>\n",
       "    </tr>\n",
       "    <tr>\n",
       "      <th>10991</th>\n",
       "      <td>Woodland Park</td>\n",
       "      <td>United States</td>\n",
       "      <td>Cadets from the Air Force Academy participatin...</td>\n",
       "      <td>Saylor Park Forest</td>\n",
       "      <td>Colorado</td>\n",
       "      <td>CO</td>\n",
       "      <td>-105.022763</td>\n",
       "      <td>39.116658</td>\n",
       "      <td>-105.056930</td>\n",
       "      <td>38.993881</td>\n",
       "    </tr>\n",
       "  </tbody>\n",
       "</table>\n",
       "<p>10992 rows × 10 columns</p>\n",
       "</div>"
      ],
      "text/plain": [
       "                city        country  \\\n",
       "0                Ada  United States   \n",
       "1            Addison  United States   \n",
       "2             Adrian  United States   \n",
       "3             Adrian  United States   \n",
       "4             Albion  United States   \n",
       "...              ...            ...   \n",
       "10987    Westminster  United States   \n",
       "10988    Westminster  United States   \n",
       "10989    Wheat Ridge  United States   \n",
       "10990    Wheat Ridge  United States   \n",
       "10991  Woodland Park  United States   \n",
       "\n",
       "                                             description  \\\n",
       "0      Ada witch - Sometimes you can see a misty blue...   \n",
       "1      A little girl was killed suddenly while waitin...   \n",
       "2      If you take Gorman Rd. west towards Sand Creek...   \n",
       "3      In the 1970's, one room, room 211, in the old ...   \n",
       "4      Kappa Delta Sorority - The Kappa Delta Sororit...   \n",
       "...                                                  ...   \n",
       "10987  at 12 midnight you can see a lady with two lit...   \n",
       "10988  Is haunted by the victims of a murder that hap...   \n",
       "10989  The institution was for kids 18 years old and ...   \n",
       "10990  Gymnasium -  their have been reports of a litt...   \n",
       "10991  Cadets from the Air Force Academy participatin...   \n",
       "\n",
       "                        location     state state_abbrev   longitude  \\\n",
       "0                   Ada Cemetery  Michigan           MI  -85.504893   \n",
       "1                North Adams Rd.  Michigan           MI  -84.381843   \n",
       "2                  Ghost Trestle  Michigan           MI  -84.035656   \n",
       "3       Siena Heights University  Michigan           MI  -84.017565   \n",
       "4                 Albion College  Michigan           MI  -84.745177   \n",
       "...                          ...       ...          ...         ...   \n",
       "10987                  city hall  Colorado           CO -105.048936   \n",
       "10988             Pillar of Fire  Colorado           CO -105.032091   \n",
       "10989   Ridge Mental Institution  Colorado           CO -105.063974   \n",
       "10990  Wheat Ridge Middle School  Colorado           CO -105.103613   \n",
       "10991         Saylor Park Forest  Colorado           CO -105.022763   \n",
       "\n",
       "        latitude  city_longitude  city_latitude  \n",
       "0      42.962106      -85.495480      42.960727  \n",
       "1      41.971425      -84.347168      41.986434  \n",
       "2      41.904538      -84.037166      41.897547  \n",
       "3      41.905712      -84.037166      41.897547  \n",
       "4      42.244006      -84.753030      42.243097  \n",
       "...          ...             ...            ...  \n",
       "10987  39.862610     -105.037205      39.836653  \n",
       "10988  39.847237     -105.037205      39.836653  \n",
       "10989  39.769726     -105.077206      39.766098  \n",
       "10990  39.764055     -105.077206      39.766098  \n",
       "10991  39.116658     -105.056930      38.993881  \n",
       "\n",
       "[10992 rows x 10 columns]"
      ]
     },
     "execution_count": 2,
     "metadata": {},
     "output_type": "execute_result"
    }
   ],
   "source": [
    "df_1 = _dntk.execute_sql(\n",
    "  'SELECT *\\nFROM \\'haunted_places.tsv\\'',\n",
    "  'SQL_DEEPNOTE_DATAFRAME_SQL',\n",
    "  audit_sql_comment='',\n",
    "  sql_cache_mode='cache_disabled'\n",
    ")\n",
    "df_1"
   ]
  },
  {
   "cell_type": "markdown",
   "metadata": {
    "cell_id": "b99824fdf3614ec3ae98e7940951a1d0",
    "deepnote_cell_type": "markdown"
   },
   "source": [
    "#### Haunted Places Evidence Analyzer\n",
    "The below script processes the TSV file containing haunted places data and includes additional evidence columns. The script analyzes descriptions to extract audio evidence, visual evidence, dates, witness counts, and time of day, then outputs an updated TSV file with these new columns."
   ]
  },
  {
   "cell_type": "code",
   "execution_count": 19,
   "metadata": {
    "cell_id": "c15dc52032914e88b6b9670ab7e501e9",
    "deepnote_cell_type": "code",
    "execution_context_id": "5613de9c-b5bb-47a2-9795-674d5449a0a8",
    "execution_millis": 144691,
    "execution_start": 1739408636989,
    "source_hash": "4894740a"
   },
   "outputs": [
    {
     "name": "stdout",
     "output_type": "stream",
     "text": [
      "Successfully created haunted_places_evidence.tsv with 'audio_evidence', 'visual_evidence', 'haunted_places_date', 'haunted_places_witness_count', and 'time_of_day' columns.\n"
     ]
    }
   ],
   "source": [
    "import pandas as pd\n",
    "import datefinder\n",
    "from datetime import datetime\n",
    "import number_parser\n",
    "\n",
    "def add_evidence_columns(input_file_path, output_file_path, audio_keywords, visual_keywords):\n",
    "\n",
    "    try:\n",
    "        df = pd.read_csv(input_file_path, sep='\\t')\n",
    "\n",
    "        # Create the 'audio_evidence' column\n",
    "        df['audio_evidence'] = df['description'].apply(\n",
    "            lambda description: isinstance(description, str) and any(keyword in description.lower() for keyword in audio_keywords)\n",
    "        )\n",
    "\n",
    "        # Create the 'visual_evidence' column\n",
    "        df['visual_evidence'] = df['description'].apply(\n",
    "            lambda description: isinstance(description, str) and any(keyword in description.lower() for keyword in visual_keywords)\n",
    "        )\n",
    "\n",
    "        # Create the 'haunted_places_date' column\n",
    "        df['haunted_places_date'] = df['description'].apply(\n",
    "            lambda description: next(datefinder.find_dates(description), datetime(2025, 1, 1)).strftime('%Y/%m/%d')\n",
    "            if isinstance(description, str) and any(datefinder.find_dates(description))\n",
    "            else datetime(2025, 1, 1).strftime('%Y/%m/%d')\n",
    "        )\n",
    "\n",
    "        # Create the 'haunted_places_witness_count' column\n",
    "        df['haunted_places_witness_count'] = df['description'].apply(\n",
    "            lambda description: parse_witness_count(description) if isinstance(description, str) else 0\n",
    "        )\n",
    "        \n",
    "        # Create the 'time_of_day' column\n",
    "        df['time_of_day'] = df['description'].apply(\n",
    "            lambda description: discern_time_of_day(description) if isinstance(description, str) else \"Unknown\"\n",
    "        )\n",
    "\n",
    "        # Save the updated DataFrame to a new TSV file\n",
    "        df.to_csv(output_file_path, sep='\\t', index=False)\n",
    "        print(f\"Successfully created {output_file_path} with 'audio_evidence', 'visual_evidence', 'haunted_places_date', 'haunted_places_witness_count', and 'time_of_day' columns.\")\n",
    "\n",
    "    except FileNotFoundError:\n",
    "        print(f\"Error: File not found at {input_file_path}\")\n",
    "    except pd.errors.EmptyDataError:\n",
    "        print(f\"Error: The file at {input_file_path} is empty.\")\n",
    "    except KeyError:\n",
    "        print(\"Error: 'description' column not found in the file.\")\n",
    "    except Exception as e:\n",
    "        print(f\"An unexpected error occurred: {e}\")\n",
    "\n",
    "def parse_witness_count(description):\n",
    "\n",
    "    try:\n",
    "        # Look for phrases like \"seen by X people\" or \"witnessed by X people\"\n",
    "        description_lower = description.lower()\n",
    "        if \"witness\" in description_lower or \"seen by\" in description_lower:\n",
    "            # Split the description into words\n",
    "            words = description_lower.split()\n",
    "            \n",
    "            # Iterate through the words to find potential witness counts\n",
    "            for i, word in enumerate(words):\n",
    "                if word in [\"witnessed\", \"seen\"]:\n",
    "                    # Check if the next word is \"by\"\n",
    "                    if i + 1 < len(words) and words[i + 1] == \"by\":\n",
    "                        # Attempt to parse the number after \"by\"\n",
    "                        try:\n",
    "                            witness_count = number_parser.parse(words[i + 2])\n",
    "                            return int(witness_count)\n",
    "                        except (ValueError, IndexError):\n",
    "                            pass  # Parsing failed, continue searching\n",
    "                else:\n",
    "                    try:\n",
    "                        witness_count = number_parser.parse(word)\n",
    "                        if isinstance(witness_count, int):\n",
    "                            return int(witness_count)\n",
    "                    except (ValueError, IndexError):\n",
    "                        pass\n",
    "        return 0  # No witness count found\n",
    "    except Exception:\n",
    "        return 0\n",
    "\n",
    "def discern_time_of_day(description):\n",
    "\n",
    "    description_lower = description.lower()\n",
    "    if any(keyword in description_lower for keyword in [\"morning\", \"sunrise\"]):\n",
    "        return \"Morning\"\n",
    "    elif any(keyword in description_lower for keyword in [\"evening\", \"night\", \"sunset\", \"dark\"]):\n",
    "        return \"Evening\"\n",
    "    elif \"dusk\" in description_lower:\n",
    "        return \"Dusk\"\n",
    "    else:\n",
    "        return \"Unknown\"\n",
    "\n",
    "# Example usage:\n",
    "if __name__ == \"__main__\":\n",
    "    input_file = 'haunted_places.tsv'\n",
    "    output_file = 'haunted_places_evidence.tsv'\n",
    "    audio_keywords_to_search = ['noises', 'sound', 'voices']  # Example audio keywords\n",
    "    visual_keywords_to_search = ['camera', 'pictures', \"visual\"]  # Example visual keywords\n",
    "    add_evidence_columns(input_file, output_file, audio_keywords_to_search, visual_keywords_to_search)"
   ]
  },
  {
   "cell_type": "code",
   "execution_count": 21,
   "metadata": {
    "cell_id": "5ba33e1761b94ce09a7a04465188005d",
    "deepnote_cell_type": "sql",
    "deepnote_sql_source": "SELECT *\nFROM 'haunted_places_evidence.tsv'",
    "deepnote_variable_name": "df_2",
    "execution_context_id": "5613de9c-b5bb-47a2-9795-674d5449a0a8",
    "execution_millis": 517,
    "execution_start": 1739408785064,
    "source_hash": "d0bc411a",
    "sql_integration_id": "deepnote-dataframe-sql"
   },
   "outputs": [
    {
     "data": {
      "application/vnd.deepnote.dataframe.v3+json": {
       "column_count": 15,
       "columns": [
        {
         "dtype": "object",
         "name": "city",
         "stats": {
          "categories": [
           {
            "count": 61,
            "name": "Los Angeles"
           },
           {
            "count": 10928,
            "name": "4384 others"
           },
           {
            "count": 3,
            "name": "Missing"
           }
          ],
          "nan_count": 3,
          "unique_count": 4385
         }
        },
        {
         "dtype": "object",
         "name": "country",
         "stats": {
          "categories": [
           {
            "count": 10992,
            "name": "United States"
           }
          ],
          "nan_count": 0,
          "unique_count": 1
         }
        },
        {
         "dtype": "object",
         "name": "description",
         "stats": {
          "categories": [
           {
            "count": 2,
            "name": "Apparitions seen."
           },
           {
            "count": 2,
            "name": "Students have reported lights along the pathway near the Main House (administration building) turning off and on late at night as they walk by. For example, as a person approaches a light it goes out, then back on once the person has gone by it. An eerie feeling of being watched in this location has also been noted, as well as unexplained isolated mists in the surrounding wooded area."
           },
           {
            "count": 10988,
            "name": "10985 others"
           }
          ],
          "nan_count": 0,
          "unique_count": 10987
         }
        },
        {
         "dtype": "object",
         "name": "location",
         "stats": {
          "categories": [
           {
            "count": 18,
            "name": "Prince Georges county"
           },
           {
            "count": 10971,
            "name": "9902 others"
           },
           {
            "count": 3,
            "name": "Missing"
           }
          ],
          "nan_count": 3,
          "unique_count": 9903
         }
        },
        {
         "dtype": "object",
         "name": "state",
         "stats": {
          "categories": [
           {
            "count": 1070,
            "name": "California"
           },
           {
            "count": 696,
            "name": "Texas"
           },
           {
            "count": 9226,
            "name": "49 others"
           }
          ],
          "nan_count": 0,
          "unique_count": 51
         }
        },
        {
         "dtype": "object",
         "name": "state_abbrev",
         "stats": {
          "categories": [
           {
            "count": 1070,
            "name": "CA"
           },
           {
            "count": 696,
            "name": "TX"
           },
           {
            "count": 9226,
            "name": "49 others"
           }
          ],
          "nan_count": 0,
          "unique_count": 51
         }
        },
        {
         "dtype": "float64",
         "name": "longitude",
         "stats": {
          "histogram": [
           {
            "bin_end": -131.38044251,
            "bin_start": -164.7224104,
            "count": 121
           },
           {
            "bin_end": -98.03847462,
            "bin_start": -131.38044251,
            "count": 2462
           },
           {
            "bin_end": -64.69650673000001,
            "bin_start": -98.03847462,
            "count": 7138
           },
           {
            "bin_end": -31.354538840000004,
            "bin_start": -64.69650673000001,
            "count": 0
           },
           {
            "bin_end": 1.987429050000003,
            "bin_start": -31.354538840000004,
            "count": 2
           },
           {
            "bin_end": 35.32939693999998,
            "bin_start": 1.987429050000003,
            "count": 0
           },
           {
            "bin_end": 68.67136482999999,
            "bin_start": 35.32939693999998,
            "count": 1
           },
           {
            "bin_end": 102.01333272,
            "bin_start": 68.67136482999999,
            "count": 4
           },
           {
            "bin_end": 135.35530060999997,
            "bin_start": 102.01333272,
            "count": 0
           },
           {
            "bin_end": 168.6972685,
            "bin_start": 135.35530060999997,
            "count": 3
           }
          ],
          "max": "168.6972685",
          "min": "-164.7224104",
          "nan_count": 1261,
          "unique_count": 8774
         }
        },
        {
         "dtype": "float64",
         "name": "latitude",
         "stats": {
          "histogram": [
           {
            "bin_end": -33.83209454,
            "bin_start": -45.023726,
            "count": 2
           },
           {
            "bin_end": -22.64046308,
            "bin_start": -33.83209454,
            "count": 0
           },
           {
            "bin_end": -11.44883162,
            "bin_start": -22.64046308,
            "count": 0
           },
           {
            "bin_end": -0.25720015999999646,
            "bin_start": -11.44883162,
            "count": 0
           },
           {
            "bin_end": 10.934431300000007,
            "bin_start": -0.25720015999999646,
            "count": 0
           },
           {
            "bin_end": 22.126062760000003,
            "bin_start": 10.934431300000007,
            "count": 92
           },
           {
            "bin_end": 33.317694220000014,
            "bin_start": 22.126062760000003,
            "count": 1362
           },
           {
            "bin_end": 44.50932568000001,
            "bin_start": 33.317694220000014,
            "count": 7518
           },
           {
            "bin_end": 55.70095714000001,
            "bin_start": 44.50932568000001,
            "count": 729
           },
           {
            "bin_end": 66.89258860000001,
            "bin_start": 55.70095714000001,
            "count": 28
           }
          ],
          "max": "66.89258860000001",
          "min": "-45.023726",
          "nan_count": 1261,
          "unique_count": 8775
         }
        },
        {
         "dtype": "float64",
         "name": "city_longitude",
         "stats": {
          "histogram": [
           {
            "bin_end": -155.03552308,
            "bin_start": -164.7238888,
            "count": 99
           },
           {
            "bin_end": -145.34715735999998,
            "bin_start": -155.03552308,
            "count": 21
           },
           {
            "bin_end": -135.65879164,
            "bin_start": -145.34715735999998,
            "count": 4
           },
           {
            "bin_end": -125.97042592,
            "bin_start": -135.65879164,
            "count": 4
           },
           {
            "bin_end": -116.28206019999999,
            "bin_start": -125.97042592,
            "count": 1472
           },
           {
            "bin_end": -106.59369448,
            "bin_start": -116.28206019999999,
            "count": 516
           },
           {
            "bin_end": -96.90532876,
            "bin_start": -106.59369448,
            "count": 1042
           },
           {
            "bin_end": -87.21696304,
            "bin_start": -96.90532876,
            "count": 2276
           },
           {
            "bin_end": -77.52859731999999,
            "bin_start": -87.21696304,
            "count": 3461
           },
           {
            "bin_end": -67.8402316,
            "bin_start": -77.52859731999999,
            "count": 2068
           }
          ],
          "max": "-67.8402316",
          "min": "-164.7238888",
          "nan_count": 29,
          "unique_count": 5222
         }
        },
        {
         "dtype": "float64",
         "name": "city_latitude"
        },
        {
         "dtype": "bool",
         "name": "audio_evidence"
        },
        {
         "dtype": "bool",
         "name": "visual_evidence"
        },
        {
         "dtype": "datetime64[us]",
         "name": "haunted_places_date"
        },
        {
         "dtype": "int64",
         "name": "haunted_places_witness_count"
        },
        {
         "dtype": "object",
         "name": "time_of_day"
        },
        {
         "dtype": "int64",
         "name": "_deepnote_index_column"
        }
       ],
       "row_count": 10992,
       "rows": [
        {
         "_deepnote_index_column": 0,
         "audio_evidence": "False",
         "city": "Ada",
         "city_latitude": 42.960727,
         "city_longitude": -85.4954803,
         "country": "United States",
         "description": "Ada witch - Sometimes you can see a misty blue figure floating within a 3-mile radius of the Ada Cemetery on 2 Mile between Egypt Valley and Honey Creek. The story of her origin is as follows: A man suspected his wife of having an affair, so he followed her late one night when she thought he was asleep. Sure enough, she went to a field near their property where she met her lover. The husband was enraged and killed his wife, which resulted in a struggle with the other man. Both men died from their injuries. It is said that late at night (especially during the night of and the nights preceding a full moon) people driving by the field can see her ghost, searching for her lover. Some people have reported stopping to try to communicate with her, but she always disappears or runs into the woods where she cannot be followed (due to the thick brambles that inhabit the area). She is said to dress in a long white gown which authorities say dates her to the turn of the 20th century. Usually she …",
         "haunted_places_date": "2025-02-20 00:00:00",
         "haunted_places_witness_count": 0,
         "latitude": 42.9621061,
         "location": "Ada Cemetery",
         "longitude": -85.50489309999999,
         "state": "Michigan",
         "state_abbrev": "MI",
         "time_of_day": "Evening",
         "visual_evidence": "False"
        },
        {
         "_deepnote_index_column": 1,
         "audio_evidence": "False",
         "city": "Addison",
         "city_latitude": 41.986434,
         "city_longitude": -84.3471684,
         "country": "United States",
         "description": "A little girl was killed suddenly while waiting for a school bus by a speeding car. Since her death things have happened. The day of her funeral she started knocking on doors of the house she was born in.1 month later as her clothes were to be removed the doors in the home flew open with no reason. Cold spots now can be felt & knocking at the door is still present to this day in the home. Also when there swings in the yard you could see them swing real high as if someone was swinging on them. lights like to go on & off in this home & she does move things to let someone know she is there. The cemetery where this child lies has had alot of activity also. When you visit her grave she has a twirly that will start going around & round with no reason or wind blowing to let you know she is present. Some have said she has been spotted walking the cemetery very restless as if she doesn't realize she has passed on.",
         "haunted_places_date": "2025-02-13 00:00:00",
         "haunted_places_witness_count": 0,
         "latitude": 41.9714248,
         "location": "North Adams Rd.",
         "longitude": -84.3818434,
         "state": "Michigan",
         "state_abbrev": "MI",
         "time_of_day": "Unknown",
         "visual_evidence": "False"
        },
        {
         "_deepnote_index_column": 2,
         "audio_evidence": "False",
         "city": "Adrian",
         "city_latitude": 41.8975471,
         "city_longitude": -84.03716589999999,
         "country": "United States",
         "description": "If you take Gorman Rd. west towards Sand Creek, you will come to a gravel road leading north. A mile or so up this road you will come to narrow one lane trestle bridge. The road goes under this. Legend has it that at one time there was a farm house built near the tracks. Late one night a fire broke out in the barn. While the father ran to the barn to try to get the horses out, his wife and young son went to the tracks to wave down one of the many trains that would use that right of way. They were too close to the tracks however and both were struck by the train as it went past. The father was killed in the barn. Now if you go out there late at night, you can sometimes communicate with the Father. He will not allow you to talk to his wife or son; as if he was protecting them . There are other people living in the area now, and a large streetlight has been placed there by the people who own the neighboring land. If you stay there to long, they will call the police. However if you make y…",
         "haunted_places_date": "2025-01-01 00:00:00",
         "haunted_places_witness_count": 0,
         "latitude": 41.904538,
         "location": "Ghost Trestle",
         "longitude": -84.03565619999999,
         "state": "Michigan",
         "state_abbrev": "MI",
         "time_of_day": "Evening",
         "visual_evidence": "False"
        },
        {
         "_deepnote_index_column": 3,
         "audio_evidence": "False",
         "city": "Adrian",
         "city_latitude": 41.8975471,
         "city_longitude": -84.03716589999999,
         "country": "United States",
         "description": "In the 1970's, one room, room 211, in the old section of the dorms exhibited several phenomena. Don't know if this still continues today. The door into the room from the hallway, as well as the door into the bathroom, would open and shut on their own, the main door even if it had been locked. After closing, it would be locked again. There was also a spot on one wall (a wall that the room shared with a boarded up, no longer used laundry shaft) where two points of light would appear, shaped similar to eyes. Attempts were made to explain their appearance (they were visible any time it was dark in the room). They were screened off from the windows to see if they might be reflections, they weren't. When objects were placed between them and the windows they actually became brighter. We tried painting the walls, putting several coats of paint over them (thinking they may have been a joke of a previous resident, made with glow in the dark paint) - also having used sandpaper on the wall in tha…",
         "haunted_places_date": "1970-02-13 00:00:00",
         "haunted_places_witness_count": 0,
         "latitude": 41.9057124,
         "location": "Siena Heights University",
         "longitude": -84.0175653,
         "state": "Michigan",
         "state_abbrev": "MI",
         "time_of_day": "Morning",
         "visual_evidence": "False"
        },
        {
         "_deepnote_index_column": 4,
         "audio_evidence": "False",
         "city": "Albion",
         "city_latitude": 42.243097,
         "city_longitude": -84.7530304,
         "country": "United States",
         "description": "Kappa Delta Sorority - The Kappa Delta Sorority is haunted by an entity simply known as 'P'. It is said she was a sister there who died in a car accident. Current sisters there have reported hearing giggling and running around coming from the upstairs floor while they are in the basement. At one time a sister called out to \"P\" and received a \"hello\" in reply.",
         "haunted_places_date": "2025-01-01 00:00:00",
         "haunted_places_witness_count": 0,
         "latitude": 42.2440064,
         "location": "Albion College",
         "longitude": -84.7451775,
         "state": "Michigan",
         "state_abbrev": "MI",
         "time_of_day": "Unknown",
         "visual_evidence": "False"
        },
        {
         "_deepnote_index_column": 5,
         "audio_evidence": "False",
         "city": "Albion",
         "city_latitude": 42.243097,
         "city_longitude": -84.7530304,
         "country": "United States",
         "description": "A mysterious lady in white has been spotted in this cemetery.",
         "haunted_places_date": "2025-01-01 00:00:00",
         "haunted_places_witness_count": 0,
         "latitude": 42.2368139,
         "location": "Riverside Cemetery",
         "longitude": -84.7530555,
         "state": "Michigan",
         "state_abbrev": "MI",
         "time_of_day": "Unknown",
         "visual_evidence": "False"
        },
        {
         "_deepnote_index_column": 6,
         "audio_evidence": "False",
         "city": "Algoma Township",
         "city_latitude": 43.1492928,
         "city_longitude": -85.62292959999999,
         "country": "United States",
         "description": "On a winding dirt road next to the Rogue River called Friske, there is a small turn-around for no particular reason. On this turn-around, there is a trail that leads off a ways into the woods. If you follow the trail, it leads to an old iron bridge called Hell's Bridge. It is said that if you are sitting or standing on the bridge at midnight you can hear the devil laughing. The reason is, in the 1800's, when Algoma didn't really exist and Rockford was known as Laphamville, a man named Elias Friske murdered several children and claimed a demon made him do it. Later the bodies were found in the part of the river where the bridge is now. Sometimes you can also hear the children crying, @r the noise of splashing water where their bodies were thrown. Some fishermen in the early morning have reported seeing a strange figure near the bridge...",
         "haunted_places_date": "1800-02-13 00:00:00",
         "haunted_places_witness_count": 0,
         "latitude": "nan",
         "location": "Hell's Bridge",
         "longitude": "nan",
         "state": "Michigan",
         "state_abbrev": "MI",
         "time_of_day": "Morning",
         "visual_evidence": "False"
        },
        {
         "_deepnote_index_column": 7,
         "audio_evidence": "False",
         "city": "Algonac",
         "city_latitude": 42.6183675,
         "city_longitude": -82.531018,
         "country": "United States",
         "description": "Morrow Road is a Haunted road in Algonac Michigan near Harsens Island. In the 1800's a woman lost here child on that road and is still looking for her today. At night people see strange glowing orbs floating down the road and through the woods. Some see the lady walking by the side of the road in an 1800's dress covered in blood. Still others have reported seeing her hanging from a tree by a noose. The road has been on the popular show Unsolved Mysteries as well as several local news channels. Now there is a movie being made about the road. the story behind the road is a woman went out in the middle of the night to find her toddler that had somehow got out alone in the winter they both froze to death, it is a fact that if you park on the bridge at midnight and honk your horn three times she will appear and see if you have her baby. She is also said to be wearing a white blood covered gown carrying her dead baby. Also a green light will chase people away.-  www.morrowroad.com",
         "haunted_places_date": "1800-02-13 00:00:00",
         "haunted_places_witness_count": 0,
         "latitude": 42.6529969,
         "location": "Morrow Road",
         "longitude": -82.5762902,
         "state": "Michigan",
         "state_abbrev": "MI",
         "time_of_day": "Evening",
         "visual_evidence": "False"
        },
        {
         "_deepnote_index_column": 8,
         "audio_evidence": "False",
         "city": "Allegan",
         "city_latitude": 42.5291989,
         "city_longitude": -85.8553031,
         "country": "United States",
         "description": "People report hearing footsteps, and doors slamming where there are no doors, a small child's voice say \"Mama?\"",
         "haunted_places_date": "2025-01-01 00:00:00",
         "haunted_places_witness_count": 0,
         "latitude": 42.520552,
         "location": "Elks Lodge",
         "longitude": -85.84159919999999,
         "state": "Michigan",
         "state_abbrev": "MI",
         "time_of_day": "Unknown",
         "visual_evidence": "False"
        },
        {
         "_deepnote_index_column": 9,
         "audio_evidence": "False",
         "city": "Allegan",
         "city_latitude": 42.5291989,
         "city_longitude": -85.8553031,
         "country": "United States",
         "description": "Various ghostly activities. News coverage about these hauntings every year around Halloween time, on the local channels.",
         "haunted_places_date": "2025-02-13 00:00:00",
         "haunted_places_witness_count": 0,
         "latitude": 42.4977621,
         "location": "The Grill House and the Rock Bottom Bar",
         "longitude": -85.8575642,
         "state": "Michigan",
         "state_abbrev": "MI",
         "time_of_day": "Unknown",
         "visual_evidence": "False"
        }
       ]
      },
      "text/html": [
       "<div>\n",
       "<style scoped>\n",
       "    .dataframe tbody tr th:only-of-type {\n",
       "        vertical-align: middle;\n",
       "    }\n",
       "\n",
       "    .dataframe tbody tr th {\n",
       "        vertical-align: top;\n",
       "    }\n",
       "\n",
       "    .dataframe thead th {\n",
       "        text-align: right;\n",
       "    }\n",
       "</style>\n",
       "<table border=\"1\" class=\"dataframe\">\n",
       "  <thead>\n",
       "    <tr style=\"text-align: right;\">\n",
       "      <th></th>\n",
       "      <th>city</th>\n",
       "      <th>country</th>\n",
       "      <th>description</th>\n",
       "      <th>location</th>\n",
       "      <th>state</th>\n",
       "      <th>state_abbrev</th>\n",
       "      <th>longitude</th>\n",
       "      <th>latitude</th>\n",
       "      <th>city_longitude</th>\n",
       "      <th>city_latitude</th>\n",
       "      <th>audio_evidence</th>\n",
       "      <th>visual_evidence</th>\n",
       "      <th>haunted_places_date</th>\n",
       "      <th>haunted_places_witness_count</th>\n",
       "      <th>time_of_day</th>\n",
       "    </tr>\n",
       "  </thead>\n",
       "  <tbody>\n",
       "    <tr>\n",
       "      <th>0</th>\n",
       "      <td>Ada</td>\n",
       "      <td>United States</td>\n",
       "      <td>Ada witch - Sometimes you can see a misty blue...</td>\n",
       "      <td>Ada Cemetery</td>\n",
       "      <td>Michigan</td>\n",
       "      <td>MI</td>\n",
       "      <td>-85.504893</td>\n",
       "      <td>42.962106</td>\n",
       "      <td>-85.495480</td>\n",
       "      <td>42.960727</td>\n",
       "      <td>False</td>\n",
       "      <td>False</td>\n",
       "      <td>2025-02-20</td>\n",
       "      <td>0</td>\n",
       "      <td>Evening</td>\n",
       "    </tr>\n",
       "    <tr>\n",
       "      <th>1</th>\n",
       "      <td>Addison</td>\n",
       "      <td>United States</td>\n",
       "      <td>A little girl was killed suddenly while waitin...</td>\n",
       "      <td>North Adams Rd.</td>\n",
       "      <td>Michigan</td>\n",
       "      <td>MI</td>\n",
       "      <td>-84.381843</td>\n",
       "      <td>41.971425</td>\n",
       "      <td>-84.347168</td>\n",
       "      <td>41.986434</td>\n",
       "      <td>False</td>\n",
       "      <td>False</td>\n",
       "      <td>2025-02-13</td>\n",
       "      <td>0</td>\n",
       "      <td>Unknown</td>\n",
       "    </tr>\n",
       "    <tr>\n",
       "      <th>2</th>\n",
       "      <td>Adrian</td>\n",
       "      <td>United States</td>\n",
       "      <td>If you take Gorman Rd. west towards Sand Creek...</td>\n",
       "      <td>Ghost Trestle</td>\n",
       "      <td>Michigan</td>\n",
       "      <td>MI</td>\n",
       "      <td>-84.035656</td>\n",
       "      <td>41.904538</td>\n",
       "      <td>-84.037166</td>\n",
       "      <td>41.897547</td>\n",
       "      <td>False</td>\n",
       "      <td>False</td>\n",
       "      <td>2025-01-01</td>\n",
       "      <td>0</td>\n",
       "      <td>Evening</td>\n",
       "    </tr>\n",
       "    <tr>\n",
       "      <th>3</th>\n",
       "      <td>Adrian</td>\n",
       "      <td>United States</td>\n",
       "      <td>In the 1970's, one room, room 211, in the old ...</td>\n",
       "      <td>Siena Heights University</td>\n",
       "      <td>Michigan</td>\n",
       "      <td>MI</td>\n",
       "      <td>-84.017565</td>\n",
       "      <td>41.905712</td>\n",
       "      <td>-84.037166</td>\n",
       "      <td>41.897547</td>\n",
       "      <td>False</td>\n",
       "      <td>False</td>\n",
       "      <td>1970-02-13</td>\n",
       "      <td>0</td>\n",
       "      <td>Morning</td>\n",
       "    </tr>\n",
       "    <tr>\n",
       "      <th>4</th>\n",
       "      <td>Albion</td>\n",
       "      <td>United States</td>\n",
       "      <td>Kappa Delta Sorority - The Kappa Delta Sororit...</td>\n",
       "      <td>Albion College</td>\n",
       "      <td>Michigan</td>\n",
       "      <td>MI</td>\n",
       "      <td>-84.745177</td>\n",
       "      <td>42.244006</td>\n",
       "      <td>-84.753030</td>\n",
       "      <td>42.243097</td>\n",
       "      <td>False</td>\n",
       "      <td>False</td>\n",
       "      <td>2025-01-01</td>\n",
       "      <td>0</td>\n",
       "      <td>Unknown</td>\n",
       "    </tr>\n",
       "    <tr>\n",
       "      <th>...</th>\n",
       "      <td>...</td>\n",
       "      <td>...</td>\n",
       "      <td>...</td>\n",
       "      <td>...</td>\n",
       "      <td>...</td>\n",
       "      <td>...</td>\n",
       "      <td>...</td>\n",
       "      <td>...</td>\n",
       "      <td>...</td>\n",
       "      <td>...</td>\n",
       "      <td>...</td>\n",
       "      <td>...</td>\n",
       "      <td>...</td>\n",
       "      <td>...</td>\n",
       "      <td>...</td>\n",
       "    </tr>\n",
       "    <tr>\n",
       "      <th>10987</th>\n",
       "      <td>Westminster</td>\n",
       "      <td>United States</td>\n",
       "      <td>at 12 midnight you can see a lady with two lit...</td>\n",
       "      <td>city hall</td>\n",
       "      <td>Colorado</td>\n",
       "      <td>CO</td>\n",
       "      <td>-105.048936</td>\n",
       "      <td>39.862610</td>\n",
       "      <td>-105.037205</td>\n",
       "      <td>39.836653</td>\n",
       "      <td>False</td>\n",
       "      <td>False</td>\n",
       "      <td>2025-12-13</td>\n",
       "      <td>0</td>\n",
       "      <td>Evening</td>\n",
       "    </tr>\n",
       "    <tr>\n",
       "      <th>10988</th>\n",
       "      <td>Westminster</td>\n",
       "      <td>United States</td>\n",
       "      <td>Is haunted by the victims of a murder that hap...</td>\n",
       "      <td>Pillar of Fire</td>\n",
       "      <td>Colorado</td>\n",
       "      <td>CO</td>\n",
       "      <td>-105.032091</td>\n",
       "      <td>39.847237</td>\n",
       "      <td>-105.037205</td>\n",
       "      <td>39.836653</td>\n",
       "      <td>False</td>\n",
       "      <td>False</td>\n",
       "      <td>2025-01-01</td>\n",
       "      <td>0</td>\n",
       "      <td>Unknown</td>\n",
       "    </tr>\n",
       "    <tr>\n",
       "      <th>10989</th>\n",
       "      <td>Wheat Ridge</td>\n",
       "      <td>United States</td>\n",
       "      <td>The institution was for kids 18 years old and ...</td>\n",
       "      <td>Ridge Mental Institution</td>\n",
       "      <td>Colorado</td>\n",
       "      <td>CO</td>\n",
       "      <td>-105.063974</td>\n",
       "      <td>39.769726</td>\n",
       "      <td>-105.077206</td>\n",
       "      <td>39.766098</td>\n",
       "      <td>True</td>\n",
       "      <td>True</td>\n",
       "      <td>2007-02-13</td>\n",
       "      <td>0</td>\n",
       "      <td>Unknown</td>\n",
       "    </tr>\n",
       "    <tr>\n",
       "      <th>10990</th>\n",
       "      <td>Wheat Ridge</td>\n",
       "      <td>United States</td>\n",
       "      <td>Gymnasium -  their have been reports of a litt...</td>\n",
       "      <td>Wheat Ridge Middle School</td>\n",
       "      <td>Colorado</td>\n",
       "      <td>CO</td>\n",
       "      <td>-105.103613</td>\n",
       "      <td>39.764055</td>\n",
       "      <td>-105.077206</td>\n",
       "      <td>39.766098</td>\n",
       "      <td>False</td>\n",
       "      <td>False</td>\n",
       "      <td>2025-01-01</td>\n",
       "      <td>0</td>\n",
       "      <td>Morning</td>\n",
       "    </tr>\n",
       "    <tr>\n",
       "      <th>10991</th>\n",
       "      <td>Woodland Park</td>\n",
       "      <td>United States</td>\n",
       "      <td>Cadets from the Air Force Academy participatin...</td>\n",
       "      <td>Saylor Park Forest</td>\n",
       "      <td>Colorado</td>\n",
       "      <td>CO</td>\n",
       "      <td>-105.022763</td>\n",
       "      <td>39.116658</td>\n",
       "      <td>-105.056930</td>\n",
       "      <td>38.993881</td>\n",
       "      <td>False</td>\n",
       "      <td>False</td>\n",
       "      <td>2025-01-01</td>\n",
       "      <td>0</td>\n",
       "      <td>Evening</td>\n",
       "    </tr>\n",
       "  </tbody>\n",
       "</table>\n",
       "<p>10992 rows × 15 columns</p>\n",
       "</div>"
      ],
      "text/plain": [
       "                city        country  \\\n",
       "0                Ada  United States   \n",
       "1            Addison  United States   \n",
       "2             Adrian  United States   \n",
       "3             Adrian  United States   \n",
       "4             Albion  United States   \n",
       "...              ...            ...   \n",
       "10987    Westminster  United States   \n",
       "10988    Westminster  United States   \n",
       "10989    Wheat Ridge  United States   \n",
       "10990    Wheat Ridge  United States   \n",
       "10991  Woodland Park  United States   \n",
       "\n",
       "                                             description  \\\n",
       "0      Ada witch - Sometimes you can see a misty blue...   \n",
       "1      A little girl was killed suddenly while waitin...   \n",
       "2      If you take Gorman Rd. west towards Sand Creek...   \n",
       "3      In the 1970's, one room, room 211, in the old ...   \n",
       "4      Kappa Delta Sorority - The Kappa Delta Sororit...   \n",
       "...                                                  ...   \n",
       "10987  at 12 midnight you can see a lady with two lit...   \n",
       "10988  Is haunted by the victims of a murder that hap...   \n",
       "10989  The institution was for kids 18 years old and ...   \n",
       "10990  Gymnasium -  their have been reports of a litt...   \n",
       "10991  Cadets from the Air Force Academy participatin...   \n",
       "\n",
       "                        location     state state_abbrev   longitude  \\\n",
       "0                   Ada Cemetery  Michigan           MI  -85.504893   \n",
       "1                North Adams Rd.  Michigan           MI  -84.381843   \n",
       "2                  Ghost Trestle  Michigan           MI  -84.035656   \n",
       "3       Siena Heights University  Michigan           MI  -84.017565   \n",
       "4                 Albion College  Michigan           MI  -84.745177   \n",
       "...                          ...       ...          ...         ...   \n",
       "10987                  city hall  Colorado           CO -105.048936   \n",
       "10988             Pillar of Fire  Colorado           CO -105.032091   \n",
       "10989   Ridge Mental Institution  Colorado           CO -105.063974   \n",
       "10990  Wheat Ridge Middle School  Colorado           CO -105.103613   \n",
       "10991         Saylor Park Forest  Colorado           CO -105.022763   \n",
       "\n",
       "        latitude  city_longitude  city_latitude  audio_evidence  \\\n",
       "0      42.962106      -85.495480      42.960727           False   \n",
       "1      41.971425      -84.347168      41.986434           False   \n",
       "2      41.904538      -84.037166      41.897547           False   \n",
       "3      41.905712      -84.037166      41.897547           False   \n",
       "4      42.244006      -84.753030      42.243097           False   \n",
       "...          ...             ...            ...             ...   \n",
       "10987  39.862610     -105.037205      39.836653           False   \n",
       "10988  39.847237     -105.037205      39.836653           False   \n",
       "10989  39.769726     -105.077206      39.766098            True   \n",
       "10990  39.764055     -105.077206      39.766098           False   \n",
       "10991  39.116658     -105.056930      38.993881           False   \n",
       "\n",
       "       visual_evidence haunted_places_date  haunted_places_witness_count  \\\n",
       "0                False          2025-02-20                             0   \n",
       "1                False          2025-02-13                             0   \n",
       "2                False          2025-01-01                             0   \n",
       "3                False          1970-02-13                             0   \n",
       "4                False          2025-01-01                             0   \n",
       "...                ...                 ...                           ...   \n",
       "10987            False          2025-12-13                             0   \n",
       "10988            False          2025-01-01                             0   \n",
       "10989             True          2007-02-13                             0   \n",
       "10990            False          2025-01-01                             0   \n",
       "10991            False          2025-01-01                             0   \n",
       "\n",
       "      time_of_day  \n",
       "0         Evening  \n",
       "1         Unknown  \n",
       "2         Evening  \n",
       "3         Morning  \n",
       "4         Unknown  \n",
       "...           ...  \n",
       "10987     Evening  \n",
       "10988     Unknown  \n",
       "10989     Unknown  \n",
       "10990     Morning  \n",
       "10991     Evening  \n",
       "\n",
       "[10992 rows x 15 columns]"
      ]
     },
     "execution_count": 21,
     "metadata": {},
     "output_type": "execute_result"
    }
   ],
   "source": [
    "df_2 = _dntk.execute_sql(\n",
    "  'SELECT *\\nFROM \\'haunted_places_evidence.tsv\\'',\n",
    "  'SQL_DEEPNOTE_DATAFRAME_SQL',\n",
    "  audit_sql_comment='',\n",
    "  sql_cache_mode='cache_disabled'\n",
    ")\n",
    "df_2"
   ]
  },
  {
   "cell_type": "code",
   "execution_count": 1,
   "metadata": {
    "cell_id": "684fe59adba24cb7a54783de051f2e24",
    "deepnote_cell_type": "sql",
    "deepnote_sql_source": "SELECT \n    COUNT(CASE WHEN audio_evidence = TRUE THEN 1 END) AS audio_true_count,\n    COUNT(CASE WHEN audio_evidence = FALSE THEN 1 END) AS audio_false_count,\n    COUNT(CASE WHEN visual_evidence = TRUE THEN 1 END) AS visual_true_count,\n    COUNT(CASE WHEN visual_evidence = FALSE THEN 1 END) AS visual_false_count,\n    COUNT(CASE WHEN haunted_places_witness_count > 0 THEN 1 END) AS num_of_lines_with_more_then_0\nFROM haunted_places_evidence.tsv;",
    "deepnote_variable_name": "df_3",
    "execution_context_id": "26e7fddb-dea4-46d2-94bf-ff828ed79d45",
    "execution_millis": 2489,
    "execution_start": 1739465045782,
    "source_hash": "124dc7d5",
    "sql_integration_id": "deepnote-dataframe-sql"
   },
   "outputs": [
    {
     "data": {
      "application/vnd.deepnote.dataframe.v3+json": {
       "column_count": 5,
       "columns": [
        {
         "dtype": "int64",
         "name": "audio_true_count",
         "stats": {
          "histogram": [
           {
            "bin_end": 2095.6,
            "bin_start": 2095.5,
            "count": 0
           },
           {
            "bin_end": 2095.7,
            "bin_start": 2095.6,
            "count": 0
           },
           {
            "bin_end": 2095.8,
            "bin_start": 2095.7,
            "count": 0
           },
           {
            "bin_end": 2095.9,
            "bin_start": 2095.8,
            "count": 0
           },
           {
            "bin_end": 2096,
            "bin_start": 2095.9,
            "count": 0
           },
           {
            "bin_end": 2096.1,
            "bin_start": 2096,
            "count": 1
           },
           {
            "bin_end": 2096.2,
            "bin_start": 2096.1,
            "count": 0
           },
           {
            "bin_end": 2096.3,
            "bin_start": 2096.2,
            "count": 0
           },
           {
            "bin_end": 2096.4,
            "bin_start": 2096.3,
            "count": 0
           },
           {
            "bin_end": 2096.5,
            "bin_start": 2096.4,
            "count": 0
           }
          ],
          "max": "2096",
          "min": "2096",
          "nan_count": 0,
          "unique_count": 1
         }
        },
        {
         "dtype": "int64",
         "name": "audio_false_count",
         "stats": {
          "histogram": [
           {
            "bin_end": 8895.6,
            "bin_start": 8895.5,
            "count": 0
           },
           {
            "bin_end": 8895.7,
            "bin_start": 8895.6,
            "count": 0
           },
           {
            "bin_end": 8895.8,
            "bin_start": 8895.7,
            "count": 0
           },
           {
            "bin_end": 8895.9,
            "bin_start": 8895.8,
            "count": 0
           },
           {
            "bin_end": 8896,
            "bin_start": 8895.9,
            "count": 0
           },
           {
            "bin_end": 8896.1,
            "bin_start": 8896,
            "count": 1
           },
           {
            "bin_end": 8896.2,
            "bin_start": 8896.1,
            "count": 0
           },
           {
            "bin_end": 8896.3,
            "bin_start": 8896.2,
            "count": 0
           },
           {
            "bin_end": 8896.4,
            "bin_start": 8896.3,
            "count": 0
           },
           {
            "bin_end": 8896.5,
            "bin_start": 8896.4,
            "count": 0
           }
          ],
          "max": "8896",
          "min": "8896",
          "nan_count": 0,
          "unique_count": 1
         }
        },
        {
         "dtype": "int64",
         "name": "visual_true_count",
         "stats": {
          "histogram": [
           {
            "bin_end": 272.6,
            "bin_start": 272.5,
            "count": 0
           },
           {
            "bin_end": 272.7,
            "bin_start": 272.6,
            "count": 0
           },
           {
            "bin_end": 272.8,
            "bin_start": 272.7,
            "count": 0
           },
           {
            "bin_end": 272.9,
            "bin_start": 272.8,
            "count": 0
           },
           {
            "bin_end": 273,
            "bin_start": 272.9,
            "count": 0
           },
           {
            "bin_end": 273.1,
            "bin_start": 273,
            "count": 1
           },
           {
            "bin_end": 273.2,
            "bin_start": 273.1,
            "count": 0
           },
           {
            "bin_end": 273.3,
            "bin_start": 273.2,
            "count": 0
           },
           {
            "bin_end": 273.4,
            "bin_start": 273.3,
            "count": 0
           },
           {
            "bin_end": 273.5,
            "bin_start": 273.4,
            "count": 0
           }
          ],
          "max": "273",
          "min": "273",
          "nan_count": 0,
          "unique_count": 1
         }
        },
        {
         "dtype": "int64",
         "name": "visual_false_count",
         "stats": {
          "histogram": [
           {
            "bin_end": 10718.6,
            "bin_start": 10718.5,
            "count": 0
           },
           {
            "bin_end": 10718.7,
            "bin_start": 10718.6,
            "count": 0
           },
           {
            "bin_end": 10718.8,
            "bin_start": 10718.7,
            "count": 0
           },
           {
            "bin_end": 10718.9,
            "bin_start": 10718.8,
            "count": 0
           },
           {
            "bin_end": 10719,
            "bin_start": 10718.9,
            "count": 0
           },
           {
            "bin_end": 10719.1,
            "bin_start": 10719,
            "count": 1
           },
           {
            "bin_end": 10719.2,
            "bin_start": 10719.1,
            "count": 0
           },
           {
            "bin_end": 10719.3,
            "bin_start": 10719.2,
            "count": 0
           },
           {
            "bin_end": 10719.4,
            "bin_start": 10719.3,
            "count": 0
           },
           {
            "bin_end": 10719.5,
            "bin_start": 10719.4,
            "count": 0
           }
          ],
          "max": "10719",
          "min": "10719",
          "nan_count": 0,
          "unique_count": 1
         }
        },
        {
         "dtype": "int64",
         "name": "num_of_lines_with_more_then_0",
         "stats": {
          "histogram": [
           {
            "bin_end": 6.6,
            "bin_start": 6.5,
            "count": 0
           },
           {
            "bin_end": 6.7,
            "bin_start": 6.6,
            "count": 0
           },
           {
            "bin_end": 6.8,
            "bin_start": 6.7,
            "count": 0
           },
           {
            "bin_end": 6.9,
            "bin_start": 6.8,
            "count": 0
           },
           {
            "bin_end": 7,
            "bin_start": 6.9,
            "count": 0
           },
           {
            "bin_end": 7.1,
            "bin_start": 7,
            "count": 1
           },
           {
            "bin_end": 7.2,
            "bin_start": 7.1,
            "count": 0
           },
           {
            "bin_end": 7.3,
            "bin_start": 7.2,
            "count": 0
           },
           {
            "bin_end": 7.4,
            "bin_start": 7.3,
            "count": 0
           },
           {
            "bin_end": 7.5,
            "bin_start": 7.4,
            "count": 0
           }
          ],
          "max": "7",
          "min": "7",
          "nan_count": 0,
          "unique_count": 1
         }
        },
        {
         "dtype": "int64",
         "name": "_deepnote_index_column"
        }
       ],
       "row_count": 1,
       "rows": [
        {
         "_deepnote_index_column": 0,
         "audio_false_count": 8896,
         "audio_true_count": 2096,
         "num_of_lines_with_more_then_0": 7,
         "visual_false_count": 10719,
         "visual_true_count": 273
        }
       ]
      },
      "text/html": [
       "<div>\n",
       "<style scoped>\n",
       "    .dataframe tbody tr th:only-of-type {\n",
       "        vertical-align: middle;\n",
       "    }\n",
       "\n",
       "    .dataframe tbody tr th {\n",
       "        vertical-align: top;\n",
       "    }\n",
       "\n",
       "    .dataframe thead th {\n",
       "        text-align: right;\n",
       "    }\n",
       "</style>\n",
       "<table border=\"1\" class=\"dataframe\">\n",
       "  <thead>\n",
       "    <tr style=\"text-align: right;\">\n",
       "      <th></th>\n",
       "      <th>audio_true_count</th>\n",
       "      <th>audio_false_count</th>\n",
       "      <th>visual_true_count</th>\n",
       "      <th>visual_false_count</th>\n",
       "      <th>num_of_lines_with_more_then_0</th>\n",
       "    </tr>\n",
       "  </thead>\n",
       "  <tbody>\n",
       "    <tr>\n",
       "      <th>0</th>\n",
       "      <td>2096</td>\n",
       "      <td>8896</td>\n",
       "      <td>273</td>\n",
       "      <td>10719</td>\n",
       "      <td>7</td>\n",
       "    </tr>\n",
       "  </tbody>\n",
       "</table>\n",
       "</div>"
      ],
      "text/plain": [
       "   audio_true_count  audio_false_count  visual_true_count  visual_false_count  \\\n",
       "0              2096               8896                273               10719   \n",
       "\n",
       "   num_of_lines_with_more_then_0  \n",
       "0                              7  "
      ]
     },
     "execution_count": 1,
     "metadata": {},
     "output_type": "execute_result"
    }
   ],
   "source": [
    "df_3 = _dntk.execute_sql(\n",
    "  'SELECT \\n    COUNT(CASE WHEN audio_evidence = TRUE THEN 1 END) AS audio_true_count,\\n    COUNT(CASE WHEN audio_evidence = FALSE THEN 1 END) AS audio_false_count,\\n    COUNT(CASE WHEN visual_evidence = TRUE THEN 1 END) AS visual_true_count,\\n    COUNT(CASE WHEN visual_evidence = FALSE THEN 1 END) AS visual_false_count,\\n    COUNT(CASE WHEN haunted_places_witness_count > 0 THEN 1 END) AS num_of_lines_with_more_then_0\\nFROM haunted_places_evidence.tsv;',\n",
    "  'SQL_DEEPNOTE_DATAFRAME_SQL',\n",
    "  audit_sql_comment='',\n",
    "  sql_cache_mode='cache_disabled'\n",
    ")\n",
    "df_3"
   ]
  },
  {
   "cell_type": "markdown",
   "metadata": {
    "created_in_deepnote_cell": true,
    "deepnote_cell_type": "markdown"
   },
   "source": [
    "<a style='text-decoration:none;line-height:16px;display:flex;color:#5B5B62;padding:10px;justify-content:end;' href='https://deepnote.com?utm_source=created-in-deepnote-cell&projectId=9721ae8a-6e85-461c-a6dc-c5ce91a700f2' target=\"_blank\">\n",
    "<img alt='Created in deepnote.com' style='display:inline;max-height:16px;margin:0px;margin-right:7.5px;' src='data:image/svg+xml;base64,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' > </img>\n",
    "Created in <span style='font-weight:600;margin-left:4px;'>Deepnote</span></a>"
   ]
  }
 ],
 "metadata": {
  "deepnote_notebook_id": "a52a930e665d486ea14809e3c2b73b3e",
  "deepnote_persisted_session": {
   "createdAt": "2025-02-13T01:31:05.459Z"
  },
  "kernelspec": {
   "display_name": "3.11",
   "language": "python",
   "name": "python3"
  },
  "language_info": {
   "codemirror_mode": {
    "name": "ipython",
    "version": 3
   },
   "file_extension": ".py",
   "mimetype": "text/x-python",
   "name": "python",
   "nbconvert_exporter": "python",
   "pygments_lexer": "ipython3",
   "version": "3.11.3"
  }
 },
 "nbformat": 4,
 "nbformat_minor": 0
}
